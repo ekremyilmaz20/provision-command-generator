{
 "cells": [
  {
   "cell_type": "code",
   "execution_count": 1,
   "metadata": {},
   "outputs": [],
   "source": [
    "from audioop import add\n",
    "import PySimpleGUI as sg \n",
    "import pandas as pd\n",
    "import xlrd \n",
    "import ipaddress\n",
    "from openpyxl import load_workbook\n"
   ]
  },
  {
   "cell_type": "code",
   "execution_count": 2,
   "metadata": {},
   "outputs": [],
   "source": [
    "sg.theme('DarkTeal9')\n",
    "EXCEL_FILE = 'TTexcel2.xlsx'\n",
    "df = pd.read_excel('TTexcel2.xlsx',engine='openpyxl')"
   ]
  },
  {
   "cell_type": "code",
   "execution_count": 3,
   "metadata": {},
   "outputs": [],
   "source": [
    "def validate_ip_address(address):\n",
    "    try:\n",
    "        if ipaddress.ip_address(address):\n",
    "            return 1\n",
    "        else:\n",
    "            return 0\n",
    "    except ValueError:\n",
    "        \n",
    "        return 0"
   ]
  },
  {
   "cell_type": "code",
   "execution_count": 4,
   "metadata": {},
   "outputs": [],
   "source": [
    "\n",
    "from typing import Text\n",
    "\n",
    "\n",
    "layout = [\n",
    "    [sg.Text('Please Enter a Data')],\n",
    "    [sg.Text('Zone', size = (15,1)), sg.InputText(key='Zone')],\n",
    "    [sg.Text('Node ID', size = (15,1)), sg.InputText(key='Node ID')],\n",
    "    [sg.Text('IP Address', size = (15,1)), sg.InputText(key='IP Address')],\n",
    "    [sg.Text('Name', size = (15,1)), sg.InputText(key='Name')],\n",
    "    [sg.Submit(), sg.Button(Text('Upload')), sg.Exit()],\n",
    "    [sg.Text(\"Choose a file: \"), sg.FileBrowse()]\n",
    "]\n"
   ]
  },
  {
   "cell_type": "code",
   "execution_count": null,
   "metadata": {},
   "outputs": [],
   "source": []
  },
  {
   "cell_type": "code",
   "execution_count": null,
   "metadata": {},
   "outputs": [],
   "source": [
    "window = sg.Window('Data Entry Form', layout)\n",
    "\n",
    "while True:\n",
    "    event, values = window.read()\n",
    "\n",
    "    if event == sg.WIN_CLOSED or event == 'Exit':\n",
    "        break\n",
    "\n",
    "    if event == 'Submit':\n",
    "        zone=int(values['Zone'])\n",
    "        nodeId=int(values['Node ID'])\n",
    "        name=str(values['Name'])\n",
    "        if  validate_ip_address(values['IP Address']) and zone<10000 and zone>999 and nodeId>=2500000 and nodeId<=2509999 and len(name)>=20 and len(name)<=40:\n",
    "            df = df.append(values, ignore_index=True)\n",
    "            df.to_excel(EXCEL_FILE,index=False)\n",
    "        else: \n",
    "            print('Not Valid')\n",
    "\n",
    "    if event== ('Upload'):\n",
    "        filePath = input(\"Write the path of the file you want to upload\")\n",
    "        ExcelWorkbook = load_workbook(filePath)\n",
    "        writer = pd.ExcelWriter(filePath, engine = 'openpyxl')\n",
    "        writer.book = ExcelWorkbook\n",
    "        df.to_excel(writer, sheet_name = 'TTexcel2.xlsx')\n",
    "        writer.save()\n",
    "        writer.close()\n",
    "                    \n",
    "\n",
    "window.close()\n"
   ]
  },
  {
   "cell_type": "code",
   "execution_count": null,
   "metadata": {},
   "outputs": [
    {
     "data": {
      "text/plain": [
       "1"
      ]
     },
     "execution_count": 6,
     "metadata": {},
     "output_type": "execute_result"
    }
   ],
   "source": [
    "validate_ip_address('198.168.0.1')"
   ]
  },
  {
   "cell_type": "code",
   "execution_count": null,
   "metadata": {},
   "outputs": [
    {
     "data": {
      "text/plain": [
       "IPv4Address('198.168.0.1')"
      ]
     },
     "execution_count": 7,
     "metadata": {},
     "output_type": "execute_result"
    }
   ],
   "source": [
    "ipaddress.ip_address('198.168.0.1')"
   ]
  },
  {
   "cell_type": "code",
   "execution_count": null,
   "metadata": {},
   "outputs": [],
   "source": []
  },
  {
   "cell_type": "code",
   "execution_count": null,
   "metadata": {},
   "outputs": [],
   "source": []
  },
  {
   "cell_type": "code",
   "execution_count": null,
   "metadata": {},
   "outputs": [],
   "source": []
  },
  {
   "cell_type": "code",
   "execution_count": null,
   "metadata": {},
   "outputs": [],
   "source": []
  }
 ],
 "metadata": {
  "kernelspec": {
   "display_name": "Python 3 (ipykernel)",
   "language": "python",
   "name": "python3"
  },
  "language_info": {
   "codemirror_mode": {
    "name": "ipython",
    "version": 3
   },
   "file_extension": ".py",
   "mimetype": "text/x-python",
   "name": "python",
   "nbconvert_exporter": "python",
   "pygments_lexer": "ipython3",
   "version": "3.9.12"
  },
  "vscode": {
   "interpreter": {
    "hash": "25c7795d15848208435e03be71ff33f84659d7505c0afe37cce8b862588e4c91"
   }
  }
 },
 "nbformat": 4,
 "nbformat_minor": 2
}
