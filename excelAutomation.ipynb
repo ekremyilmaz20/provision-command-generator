{
 "cells": [
  {
   "cell_type": "code",
   "execution_count": null,
   "metadata": {},
   "outputs": [],
   "source": [
    "from audioop import add\n",
    "import PySimpleGUI as sg \n",
    "import pandas as pd\n",
    "import xlrd \n",
    "import ipaddress\n",
    "from openpyxl import load_workbook\n",
    "from tkinter import *\n",
    "import ctypes\n",
    "from tkinter import messagebox\n",
    "from matplotlib import pylab\n",
    "from IPy import IP\n",
    "import iptools\n",
    "import os \n",
    "from pathlib import Path\n",
    "import tkinter as tk\n",
    "from tkinter import simpledialog\n",
    "import pandas as pd\n",
    "import numpy as np\n",
    "import pandas as pd\n",
    "import numpy as np\n"
   ]
  },
  {
   "cell_type": "code",
   "execution_count": null,
   "metadata": {},
   "outputs": [],
   "source": [
    "sg.theme('DarkTeal9')\n",
    "EXCEL_FILE = 'variables.xlsx'\n",
    "EXEL_FILE_2 = 'Commands.xlsx'\n",
    "\n",
    "df = pd.read_excel('variables.xlsx',engine='openpyxl')\n",
    "df2 = pd.read_excel('Commands.xlsx', engine='openpyxl')"
   ]
  },
  {
   "cell_type": "code",
   "execution_count": null,
   "metadata": {},
   "outputs": [],
   "source": []
  },
  {
   "cell_type": "code",
   "execution_count": null,
   "metadata": {},
   "outputs": [],
   "source": [
    "\n",
    "from tkinter.font import ITALIC\n",
    "from typing import Text\n",
    "\n",
    "\n",
    "\n",
    "layout = [\n",
    "    \n",
    "# messagebox.showinfo('Title', 'Information')\n",
    "\n",
    "    [sg.Text('Zone', size = (15,1)),  sg.InputText(key='Zone')],\n",
    "\n",
    "    [sg.Text('Node ID', size = (15,1)), sg.InputText(key='Node ID')],\n",
    "    \n",
    "    [sg.Text('IP Address', size = (15,1)), sg.InputText(key='IP Address')],\n",
    "    \n",
    "    [sg.Text('Name', size = (15,1)), sg.InputText(key='Name')],\n",
    "\n",
    "    [sg.Submit(), sg.Exit()], [sg.Text(\"Choose a file: \"), sg.Input(), sg.FileBrowse(),sg.Open()]\n",
    "]\n"
   ]
  },
  {
   "cell_type": "code",
   "execution_count": null,
   "metadata": {},
   "outputs": [],
   "source": [
    "def validate_zone(zone):\n",
    "    try: \n",
    "        if 4 >= len(zone) < 6:\n",
    "            \n",
    "            return zone\n",
    "        else:\n",
    "            messagebox.showerror('Error!', 'Zone Must be 4 or 5 digit')\n",
    "    except ValueError:\n",
    "        return 0"
   ]
  },
  {
   "cell_type": "code",
   "execution_count": null,
   "metadata": {},
   "outputs": [],
   "source": [
    "def ip_control(ip):\n",
    "    try:\n",
    "        o = ipaddress.ip_address(ip)\n",
    "        return ip\n",
    "    except ValueError:\n",
    "        messagebox.showinfo('Error!', 'Invalid IP')\n",
    "        return 0\n",
    "        \n",
    "\n",
    "\n"
   ]
  },
  {
   "cell_type": "code",
   "execution_count": null,
   "metadata": {},
   "outputs": [],
   "source": [
    "\n",
    "\n",
    "\n",
    "def validate_name(name):\n",
    "    try:\n",
    "        if len(name) > 0 and len(name) < 80 :\n",
    "            \n",
    "            return name\n",
    "        \n",
    "            \n",
    "        else:\n",
    "            messagebox.showinfo('Error!', 'Name Must be 0-80 digit')\n",
    "    except ValueError:\n",
    "        \n",
    "        return 0\n",
    "    "
   ]
  },
  {
   "cell_type": "code",
   "execution_count": null,
   "metadata": {},
   "outputs": [],
   "source": [
    "\n",
    "def validate_node_Id(nodeId):\n",
    "\n",
    "    if  7 >= len(nodeId) < 8:    \n",
    "        return nodeId\n",
    "\n",
    "    else:\n",
    "        messagebox.showinfo('Error!', 'Node ID Must be 7 digit')\n",
    "        return 0"
   ]
  },
  {
   "cell_type": "code",
   "execution_count": null,
   "metadata": {},
   "outputs": [],
   "source": [
    "from random import randint, random\n",
    "from tarfile import ENCODING\n",
    "import random\n",
    "\n",
    "\n",
    "def create_file():\n",
    "\n",
    "        dir_path = Path(r'C:\\Users\\ekrem\\Desktop\\tt')\n",
    "        ROOT = tk.Tk()\n",
    "        ROOT.withdraw()\n",
    "\n",
    "        file_name = simpledialog.askstring(title=\"Creating File\", prompt=\"Name the File:\" )\n",
    "\n",
    "        dir_path = Path()\n",
    "\n",
    "        if dir_path.is_dir():\n",
    "            with open (dir_path.joinpath(file_name),'w') as f:\n",
    "                f.write(str(random.randint(20,80)))\n",
    "            messagebox.showinfo('Done!', 'File is Ready')\n",
    "            return 1\n",
    "        else:\n",
    "            messagebox.showinfo('Error!', 'Directory Does Not Exist')\n",
    "            return 0"
   ]
  },
  {
   "cell_type": "code",
   "execution_count": null,
   "metadata": {},
   "outputs": [],
   "source": []
  },
  {
   "cell_type": "code",
   "execution_count": null,
   "metadata": {},
   "outputs": [
    {
     "ename": "TypeError",
     "evalue": "'NoneType' object is not subscriptable",
     "output_type": "error",
     "traceback": [
      "\u001b[1;31m---------------------------------------------------------------------------\u001b[0m",
      "\u001b[1;31mTypeError\u001b[0m                                 Traceback (most recent call last)",
      "\u001b[1;32m<ipython-input-18-1ab66bac4e6b>\u001b[0m in \u001b[0;36m<module>\u001b[1;34m\u001b[0m\n\u001b[0;32m     14\u001b[0m \u001b[1;33m\u001b[0m\u001b[0m\n\u001b[0;32m     15\u001b[0m     \u001b[0mevent\u001b[0m\u001b[1;33m,\u001b[0m \u001b[0mvalues\u001b[0m \u001b[1;33m=\u001b[0m \u001b[0mwindow\u001b[0m\u001b[1;33m.\u001b[0m\u001b[0mread\u001b[0m\u001b[1;33m(\u001b[0m\u001b[1;33m)\u001b[0m\u001b[1;33m\u001b[0m\u001b[0m\n\u001b[1;32m---> 16\u001b[1;33m     \u001b[0mx\u001b[0m \u001b[1;33m=\u001b[0m \u001b[0mvalues\u001b[0m\u001b[1;33m[\u001b[0m\u001b[1;34m'Zone'\u001b[0m\u001b[1;33m]\u001b[0m\u001b[1;33m\u001b[0m\u001b[0m\n\u001b[0m\u001b[0;32m     17\u001b[0m     \u001b[0my\u001b[0m \u001b[1;33m=\u001b[0m \u001b[0mvalues\u001b[0m\u001b[1;33m[\u001b[0m\u001b[1;34m'Node ID'\u001b[0m\u001b[1;33m]\u001b[0m\u001b[1;33m\u001b[0m\u001b[0m\n\u001b[0;32m     18\u001b[0m     \u001b[0mz\u001b[0m \u001b[1;33m=\u001b[0m \u001b[0mvalues\u001b[0m\u001b[1;33m[\u001b[0m\u001b[1;34m'IP Address'\u001b[0m\u001b[1;33m]\u001b[0m\u001b[1;33m\u001b[0m\u001b[0m\n",
      "\u001b[1;31mTypeError\u001b[0m: 'NoneType' object is not subscriptable"
     ]
    }
   ],
   "source": [
    "from csv import writer\n",
    "from re import A\n",
    "import subprocess as sp\n",
    "import os\n",
    "\n",
    "\n",
    "window = sg.Window('Data Entry Form', layout)\n",
    "#programname = 'Notepad.exe'\n",
    "#filename='myfile.txt'\n",
    "\n",
    "\n",
    "while True:\n",
    "\n",
    "\n",
    "    event, values = window.read()\n",
    "    x = values['Zone']\n",
    "    y = values['Node ID']\n",
    "    z = values['IP Address']\n",
    "    q = values['Name']\n",
    "\n",
    "\n",
    "\n",
    "    if event == sg.WIN_CLOSED or event == 'Exit':\n",
    "        break\n",
    "\n",
    "    elif event == 'Submit':\n",
    "\n",
    "        if validate_zone(validate_zone(x)) and  validate_node _Id(y) and ip_control(z)  and validate_name(q):\n",
    "        \n",
    "            df = df.append(values, ignore_index=True)\n",
    "            df.to_excel(EXCEL_FILE,index=False, sheet_name='Datas')\n",
    "\n",
    "            prov = f'Zone    : {x}    Node ID    : {y}      IP Address:   {z}    Name:   {q}'\n",
    "            arr = prov.splitlines() \n",
    "            \n",
    "            df2 = df2.append(arr, ignore_index=True)\n",
    "            df2.to_excel(EXEL_FILE_2, index=False, sheet_name='Prov Commands')\n",
    "\n",
    "\n",
    "\n",
    "            with open('data.txt', 'w') as data_file:\n",
    "                data_file.write(prov)\n",
    "                os.startfile('data.txt')\n",
    "\n",
    "            sg.popup('Data Saved') \n",
    "            window.close()\n",
    "\n",
    "\n",
    "    \n",
    "            \n",
    "    \n"
   ]
  },
  {
   "cell_type": "code",
   "execution_count": null,
   "metadata": {},
   "outputs": [],
   "source": []
  },
  {
   "cell_type": "code",
   "execution_count": null,
   "metadata": {},
   "outputs": [],
   "source": []
  },
  {
   "cell_type": "code",
   "execution_count": null,
   "metadata": {},
   "outputs": [],
   "source": []
  },
  {
   "cell_type": "code",
   "execution_count": null,
   "metadata": {},
   "outputs": [],
   "source": []
  },
  {
   "cell_type": "code",
   "execution_count": null,
   "metadata": {},
   "outputs": [],
   "source": []
  }
 ],
 "metadata": {
  "kernelspec": {
   "display_name": "Python 3.7.4 ('base')",
   "language": "python",
   "name": "python3"
  },
  "language_info": {
   "codemirror_mode": {
    "name": "ipython",
    "version": 3
   },
   "file_extension": ".py",
   "mimetype": "text/x-python",
   "name": "python",
   "nbconvert_exporter": "python",
   "pygments_lexer": "ipython3",
   "version": "3.7.4"
  },
  "vscode": {
   "interpreter": {
    "hash": "77b4235bec3c0176affa4b32385bc278c230f219f4bcf397fbea88cab49f61f4"
   }
  }
 },
 "nbformat": 4,
 "nbformat_minor": 2
}
