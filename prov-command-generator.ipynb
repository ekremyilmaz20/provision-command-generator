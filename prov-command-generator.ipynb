{
 "cells": [
  {
   "cell_type": "code",
   "execution_count": 1,
   "metadata": {},
   "outputs": [
    {
     "name": "stderr",
     "output_type": "stream",
     "text": [
      "In C:\\Users\\ekrem\\Anaconda3\\lib\\site-packages\\matplotlib\\mpl-data\\stylelib\\_classic_test.mplstyle: \n",
      "The text.latex.preview rcparam was deprecated in Matplotlib 3.3 and will be removed two minor releases later.\n",
      "In C:\\Users\\ekrem\\Anaconda3\\lib\\site-packages\\matplotlib\\mpl-data\\stylelib\\_classic_test.mplstyle: \n",
      "The mathtext.fallback_to_cm rcparam was deprecated in Matplotlib 3.3 and will be removed two minor releases later.\n",
      "In C:\\Users\\ekrem\\Anaconda3\\lib\\site-packages\\matplotlib\\mpl-data\\stylelib\\_classic_test.mplstyle: Support for setting the 'mathtext.fallback_to_cm' rcParam is deprecated since 3.3 and will be removed two minor releases later; use 'mathtext.fallback : 'cm' instead.\n",
      "In C:\\Users\\ekrem\\Anaconda3\\lib\\site-packages\\matplotlib\\mpl-data\\stylelib\\_classic_test.mplstyle: \n",
      "The validate_bool_maybe_none function was deprecated in Matplotlib 3.3 and will be removed two minor releases later.\n",
      "In C:\\Users\\ekrem\\Anaconda3\\lib\\site-packages\\matplotlib\\mpl-data\\stylelib\\_classic_test.mplstyle: \n",
      "The savefig.jpeg_quality rcparam was deprecated in Matplotlib 3.3 and will be removed two minor releases later.\n",
      "In C:\\Users\\ekrem\\Anaconda3\\lib\\site-packages\\matplotlib\\mpl-data\\stylelib\\_classic_test.mplstyle: \n",
      "The keymap.all_axes rcparam was deprecated in Matplotlib 3.3 and will be removed two minor releases later.\n",
      "In C:\\Users\\ekrem\\Anaconda3\\lib\\site-packages\\matplotlib\\mpl-data\\stylelib\\_classic_test.mplstyle: \n",
      "The animation.avconv_path rcparam was deprecated in Matplotlib 3.3 and will be removed two minor releases later.\n",
      "In C:\\Users\\ekrem\\Anaconda3\\lib\\site-packages\\matplotlib\\mpl-data\\stylelib\\_classic_test.mplstyle: \n",
      "The animation.avconv_args rcparam was deprecated in Matplotlib 3.3 and will be removed two minor releases later.\n"
     ]
    }
   ],
   "source": [
    "from audioop import add\n",
    "import PySimpleGUI as sg \n",
    "import pandas as pd\n",
    "import xlrd \n",
    "import ipaddress\n",
    "from openpyxl import load_workbook\n",
    "from tkinter import *\n",
    "import numpy as np\n",
    "\n",
    "from matplotlib import pylab\n",
    "import os \n",
    "from pathlib import Path\n",
    "import tkinter as tk\n",
    "from tkinter import simpledialog\n",
    "from openpyxl import Workbook\n"
   ]
  },
  {
   "cell_type": "code",
   "execution_count": 2,
   "metadata": {
    "scrolled": true
   },
   "outputs": [],
   "source": [
    "sg.theme('DarkTeal9')\n",
    "EXCEL_FILE = r'baslikli.xlsx'\n",
    "df = pd.read_excel(r'baslikli.xlsx',engine='openpyxl')\n",
    "\n"
   ]
  },
  {
   "cell_type": "code",
   "execution_count": 3,
   "metadata": {},
   "outputs": [],
   "source": [
    "\n",
    "from tkinter.font import ITALIC\n",
    "from typing import Text\n",
    "\n",
    "\n",
    "\n",
    "layout = [\n",
    "    \n",
    "# messagebox.showinfo('Title', 'Information')\n",
    "\n",
    "    [sg.Text('Zone', size = (15,1)),  sg.InputText(key='Zone')],\n",
    "\n",
    "    [sg.Text('Node ID', size = (15,1)), sg.InputText(key='Node ID')],\n",
    "    \n",
    "    [sg.Text('IP Address', size = (15,1)), sg.InputText(key='IP Address')],\n",
    "    \n",
    "    [sg.Text('Name', size = (15,1)), sg.InputText(key='Name')],\n",
    "\n",
    "    [sg.Submit(), sg.Exit()], [sg.Text(\"Choose a file: \"), sg.Input(), sg.FileBrowse(),sg.Open()]\n",
    "]\n"
   ]
  },
  {
   "cell_type": "code",
   "execution_count": 4,
   "metadata": {},
   "outputs": [],
   "source": [
    "def validate_zone(zone):\n",
    "    try: \n",
    "        if 4 >= len(zone) < 6:\n",
    "            \n",
    "            return zone\n",
    "        else:\n",
    "            messagebox.showerror('Error!', 'Zone Must be 4 or 5 digit')\n",
    "    except ValueError:\n",
    "        return 0"
   ]
  },
  {
   "cell_type": "code",
   "execution_count": 5,
   "metadata": {},
   "outputs": [],
   "source": [
    "def ip_control(ip):\n",
    "    try:\n",
    "        o = ipaddress.ip_address(ip)\n",
    "        return ip\n",
    "    except ValueError:\n",
    "        messagebox.showinfo('Error!', 'Invalid IP')\n",
    "        return 0\n",
    "        \n",
    "\n",
    "\n"
   ]
  },
  {
   "cell_type": "code",
   "execution_count": 6,
   "metadata": {},
   "outputs": [],
   "source": [
    "\n",
    "\n",
    "\n",
    "def validate_name(name):\n",
    "    try:\n",
    "        if len(name) > 0 and len(name) < 80 :\n",
    "            \n",
    "            return name\n",
    "        \n",
    "            \n",
    "        else:\n",
    "            messagebox.showinfo('Error!', 'Name Must be 0-80 digit')\n",
    "    except ValueError:\n",
    "        \n",
    "        return 0\n",
    "    "
   ]
  },
  {
   "cell_type": "code",
   "execution_count": 7,
   "metadata": {},
   "outputs": [],
   "source": [
    "\n",
    "def validate_node_Id(nodeId):\n",
    "\n",
    "    if  7 >= len(nodeId) < 8:    \n",
    "        return nodeId\n",
    "\n",
    "    else:\n",
    "        messagebox.showinfo('Error!', 'Node ID Must be 7 digit')\n",
    "        return 0"
   ]
  },
  {
   "cell_type": "code",
   "execution_count": 8,
   "metadata": {},
   "outputs": [],
   "source": [
    "from random import randint, random\n",
    "from tarfile import ENCODING\n",
    "import random\n",
    "\n",
    "\n",
    "def create_file():\n",
    "\n",
    "        dir_path = Path(r'C:\\Users\\user\\Desktop\\TT')\n",
    "        ROOT = tk.Tk()\n",
    "        ROOT.withdraw()\n",
    "\n",
    "        file_name = simpledialog.askstring(title=\"Creating File\", prompt=\"Name the File:\" )\n",
    "\n",
    "        dir_path = Path()\n",
    "\n",
    "        if dir_path.is_dir():\n",
    "            with open (dir_path.joinpath(file_name),'w') as f:\n",
    "                f.write(str(random.randint(20,80)))\n",
    "            messagebox.showinfo('Done!', 'File is Ready')\n",
    "            return 1\n",
    "        else:\n",
    "            messagebox.showinfo('Error!', 'Directory Does Not Exist')\n",
    "            return 0"
   ]
  },
  {
   "cell_type": "code",
   "execution_count": null,
   "metadata": {},
   "outputs": [],
   "source": []
  },
  {
   "cell_type": "code",
   "execution_count": 9,
   "metadata": {},
   "outputs": [],
   "source": [
    "from re import A\n",
    "import subprocess as sp\n",
    "import os\n",
    "\n",
    "\n",
    "window = sg.Window('Data Entry Form', layout)\n",
    "#programname = 'Notepad.exe'\n",
    "#filename='myfile.txt'\n",
    "\n",
    "\n",
    "while True:\n",
    "\n",
    "\n",
    "    event, values = window.read()\n",
    "    x = values['Zone']\n",
    "    y = values['Node ID']\n",
    "    z = values['IP Address']\n",
    "    q = values['Name']\n",
    "\n",
    "\n",
    "\n",
    "    if event == sg.WIN_CLOSED or event == 'Exit':\n",
    "        break\n",
    "\n",
    "    elif event == 'Submit':\n",
    "\n",
    "        if validate_zone(x) and  validate_node_Id(y) and ip_control(z)  and validate_name(q):\n",
    "        \n",
    "            df = df.append(values, ignore_index=True)\n",
    "            df.to_excel(writer,index=False)\n",
    "            writer.save()\n",
    "            writer.close()\n",
    "\n",
    "            textFile = open(r'C:\\Users\\user\\Desktop\\TT\\commands.txt', 'w')\n",
    "            prov = f'Zone    : {x}    Node ID    : {y}      IP Address:   {z}    Name:   {q}' \n",
    " \n",
    "            with open('data.txt', 'w') as data_file:\n",
    "                data_file.write(prov)\n",
    "                os.startfile('data.txt')\n",
    "                \n",
    "\n",
    "            sg.popup('Data Saved') \n",
    "            window.close()\n",
    "    \n",
    "            \n",
    "    \n"
   ]
  },
  {
   "cell_type": "code",
   "execution_count": null,
   "metadata": {},
   "outputs": [],
   "source": []
  },
  {
   "cell_type": "code",
   "execution_count": null,
   "metadata": {},
   "outputs": [],
   "source": []
  },
  {
   "cell_type": "code",
   "execution_count": null,
   "metadata": {},
   "outputs": [],
   "source": []
  },
  {
   "cell_type": "code",
   "execution_count": null,
   "metadata": {},
   "outputs": [],
   "source": []
  },
  {
   "cell_type": "code",
   "execution_count": null,
   "metadata": {},
   "outputs": [],
   "source": []
  }
 ],
 "metadata": {
  "kernelspec": {
   "display_name": "Python 3",
   "language": "python",
   "name": "python3"
  },
  "language_info": {
   "codemirror_mode": {
    "name": "ipython",
    "version": 3
   },
   "file_extension": ".py",
   "mimetype": "text/x-python",
   "name": "python",
   "nbconvert_exporter": "python",
   "pygments_lexer": "ipython3",
   "version": "3.7.4"
  },
  "vscode": {
   "interpreter": {
    "hash": "25c7795d15848208435e03be71ff33f84659d7505c0afe37cce8b862588e4c91"
   }
  }
 },
 "nbformat": 4,
 "nbformat_minor": 2
}
